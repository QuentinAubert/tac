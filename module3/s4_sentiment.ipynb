{
 "metadata": {
  "language_info": {
   "codemirror_mode": {
    "name": "ipython",
    "version": 3
   },
   "file_extension": ".py",
   "mimetype": "text/x-python",
   "name": "python",
   "nbconvert_exporter": "python",
   "pygments_lexer": "ipython3",
   "version": "3.8.5-final"
  },
  "orig_nbformat": 2,
  "kernelspec": {
   "name": "Python 3.8.5 64-bit",
   "display_name": "Python 3.8.5 64-bit",
   "metadata": {
    "interpreter": {
     "hash": "31f2aee4e71d21fbe5cf8b01ff0e069b9275f58929596ceb00d14d90e3e16cd6"
    }
   }
  }
 },
 "nbformat": 4,
 "nbformat_minor": 2,
 "cells": [
  {
   "source": [
    "# Sentiment analysis with Textblob-FR"
   ],
   "cell_type": "markdown",
   "metadata": {}
  },
  {
   "cell_type": "code",
   "execution_count": 1,
   "metadata": {},
   "outputs": [],
   "source": [
    "import sys\n",
    "\n",
    "from textblob import Blobber\n",
    "from textblob_fr import PatternTagger, PatternAnalyzer"
   ]
  },
  {
   "source": [
    "## Fonction"
   ],
   "cell_type": "markdown",
   "metadata": {}
  },
  {
   "cell_type": "code",
   "execution_count": 2,
   "metadata": {},
   "outputs": [],
   "source": [
    "tb = Blobber(pos_tagger=PatternTagger(), analyzer=PatternAnalyzer())\n",
    "\n",
    "def get_sentiment(input_text):\n",
    "    blob = tb(input_text)\n",
    "    pola, subj = blob.sentiment\n",
    "    perc = f\"{100*abs(pola):.0f}\"\n",
    "    if pola > 0:\n",
    "        sent = f\"{perc}% positive\"\n",
    "    elif pola < 0:\n",
    "        sent = f\"{perc}% negative\"\n",
    "    else:\n",
    "        sent = \"neutral\"\n",
    "    if subj > 0:\n",
    "        fact = f\"{100*subj:.0f}% subjective\"\n",
    "    else:\n",
    "        fact = \"perfectly objective\"\n",
    "    print(f\"This text is {sent} and {fact}.\")"
   ]
  },
  {
   "source": [
    "## Analyser le sentiment d'une phrase"
   ],
   "cell_type": "markdown",
   "metadata": {}
  },
  {
   "cell_type": "code",
   "execution_count": 3,
   "metadata": {
    "tags": []
   },
   "outputs": [
    {
     "output_type": "stream",
     "name": "stdout",
     "text": [
      "This text is 50% negative and 50% subjective.\n"
     ]
    }
   ],
   "source": [
    "get_sentiment(\"La saison d'été a été très mauvaise et il a fallu faire du feu alors que les années antérieures on pouvait s'en passer.\")"
   ]
  },
  {
   "cell_type": "code",
   "execution_count": 4,
   "metadata": {
    "tags": []
   },
   "outputs": [
    {
     "output_type": "stream",
     "name": "stdout",
     "text": [
      "This text is 20% positive and 20% subjective.\n"
     ]
    }
   ],
   "source": [
    "get_sentiment(\"La part de la fabrique de 1 église Noire-Dame dans le produit des concessions est fixée à 725 francs, conformément à la transaction du 31 mars 1874.\")"
   ]
  },
  {
   "cell_type": "code",
   "execution_count": 5,
   "metadata": {},
   "outputs": [
    {
     "output_type": "stream",
     "name": "stdout",
     "text": [
      "This text is 16% negative and 32% subjective.\n"
     ]
    }
   ],
   "source": [
    "get_sentiment(\"Dans les conditions que M. le Président vient de faire connaître je serais forcé de voter contre la concession de ces sépultures, parce que la convention intervenue entre la fabrique d'église et la commune n'est pas loyalement exécutée d'après moi.\")"
   ]
  },
  {
   "cell_type": "code",
   "execution_count": 6,
   "metadata": {},
   "outputs": [
    {
     "output_type": "stream",
     "name": "stdout",
     "text": [
      "This text is 4% negative and 28% subjective.\n"
     ]
    }
   ],
   "source": [
    "get_sentiment(\"Je répète donc que M . Ectors a tort de dire, même hypothétiquement, que la convention passée entre la commune et la fabrique d'église a été déloyalement exécutée.\")"
   ]
  },
  {
   "cell_type": "code",
   "execution_count": 7,
   "metadata": {},
   "outputs": [
    {
     "output_type": "stream",
     "name": "stdout",
     "text": [
      "This text is neutral and 12% subjective.\n"
     ]
    }
   ],
   "source": [
    "get_sentiment(\"le dernier trimestre, la classe à laquelle appartient chaque partie de la voie publique ; il modifiera cette classification, s'il y a lieu, en se basant sur la plus-value acquise par certaines rues.\")"
   ]
  },
  {
   "cell_type": "code",
   "execution_count": 8,
   "metadata": {},
   "outputs": [
    {
     "output_type": "stream",
     "name": "stdout",
     "text": [
      "This text is 10% negative and 15% subjective.\n"
     ]
    }
   ],
   "source": [
    "get_sentiment(\"La Commission que vous avez instituée pour l'examen de la situation financière de la commune a fait son rapport, en séance du 1 octobre dernier, sur le compte communal de l'exercice 1887.\")"
   ]
  },
  {
   "cell_type": "code",
   "execution_count": 9,
   "metadata": {},
   "outputs": [
    {
     "output_type": "stream",
     "name": "stdout",
     "text": [
      "This text is 34% positive and 25% subjective.\n"
     ]
    }
   ],
   "source": [
    "get_sentiment(\"Le Conseil communal par l'installation des trois nouveaux élus est régulièrement constitué.\")"
   ]
  },
  {
   "cell_type": "code",
   "execution_count": 10,
   "metadata": {},
   "outputs": [
    {
     "output_type": "stream",
     "name": "stdout",
     "text": [
      "This text is 12% positive and 10% subjective.\n"
     ]
    }
   ],
   "source": [
    "get_sentiment(\"11 a loyalement donné une large publicité au travail de cette commission, et chacun avant l'élection a pu se rendre compte de l'état de nos finances communales.\")"
   ]
  },
  {
   "cell_type": "code",
   "execution_count": 11,
   "metadata": {},
   "outputs": [
    {
     "output_type": "stream",
     "name": "stdout",
     "text": [
      "This text is 5% positive and 8% subjective.\n"
     ]
    }
   ],
   "source": [
    "get_sentiment(\"Nous accorder le temps moral nécessaire et de ne plus faire figurer cette question à l'ordre du jour d'une prochaine séance que pour aulant que nous ayons eu le temps de l'examiner. \")"
   ]
  },
  {
   "cell_type": "code",
   "execution_count": 12,
   "metadata": {},
   "outputs": [
    {
     "output_type": "stream",
     "name": "stdout",
     "text": [
      "This text is 6% negative and 20% subjective.\n"
     ]
    }
   ],
   "source": [
    "get_sentiment(\"lle subit le sort commun de la dépréciation des propriétés, et les hypothèques deviennent insuffisantes.\")"
   ]
  }
 ]
}